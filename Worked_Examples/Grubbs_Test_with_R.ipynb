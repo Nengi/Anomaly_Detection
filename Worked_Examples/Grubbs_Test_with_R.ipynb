{
 "cells": [
  {
   "cell_type": "code",
   "execution_count": 116,
   "metadata": {},
   "outputs": [],
   "source": [
    "library(tidyverse)"
   ]
  },
  {
   "cell_type": "code",
   "execution_count": 135,
   "metadata": {},
   "outputs": [],
   "source": [
    "\n",
    "# https://www.rdocumentation.org/packages/outliers/versions/0.14/topics/grubbs.test\n",
    "\n",
    "# The theory:  https://www.statisticshowto.datasciencecentral.com/grubbs-test/\n"
   ]
  },
  {
   "cell_type": "markdown",
   "metadata": {},
   "source": [
    "## Grubbs Test"
   ]
  },
  {
   "cell_type": "markdown",
   "metadata": {},
   "source": [
    "> Grubbs Test for determining an outlier"
   ]
  },
  {
   "cell_type": "code",
   "execution_count": 118,
   "metadata": {},
   "outputs": [],
   "source": [
    "# help(grubbs.test)  < you really really want to see this, it helps"
   ]
  },
  {
   "cell_type": "code",
   "execution_count": 119,
   "metadata": {},
   "outputs": [],
   "source": [
    "# grubbs.test(x, type = 10, opposite = FALSE, two.sided = FALSE)"
   ]
  },
  {
   "cell_type": "markdown",
   "metadata": {},
   "source": [
    "```\n",
    "The function can perform three tests given and discussed by Grubbs(1950).\n",
    "\n",
    "First test (10) is used to detect if the sample dataset contains one \n",
    "outlier, statistically different than the other values. Test is based by calculating score of this outlier G:\n",
    "(outlier minus mean and divided by sd) \n",
    "\n",
    "and comparing it to appropriate critical values.  \n",
    "\n",
    "Alternative method is calculating ratio of variances of two datasets \n",
    "- full dataset and dataset without outlier. The obtained value called U is bound with G by simple formula.\n",
    "\n",
    "Second test (11) is used to check if lowest and highest value are two outliers on opposite tails of sample. It is based on calculation of ratio of range to standard deviation of the sample.\n",
    "\n",
    "Third test (20) calculates ratio of variance of full sample and sample without two extreme observations. It is used to detect if dataset contains two outliers on the same tail.\n",
    "\n",
    "The p-values are calculated using qgrubbs function.\n",
    "```"
   ]
  },
  {
   "cell_type": "code",
   "execution_count": 120,
   "metadata": {},
   "outputs": [],
   "source": [
    "# help(grubbs.test) <<< use this ! "
   ]
  },
  {
   "cell_type": "code",
   "execution_count": 121,
   "metadata": {},
   "outputs": [
    {
     "name": "stdout",
     "output_type": "stream",
     "text": [
      " [1] 6.98 8.49 7.97 6.64 8.80 8.48 5.94 6.94 6.89 7.47 7.32 4.02\n"
     ]
    }
   ],
   "source": [
    "\n",
    "x <- c(6.98,8.49,7.97,6.64,\n",
    "       8.80,8.48,5.94,6.94,\n",
    "       6.89,7.47,7.32,4.02)\n",
    "\n",
    "print(x)\n",
    "\n",
    "# note: alpha will be 0.05 for all this \n"
   ]
  },
  {
   "cell_type": "code",
   "execution_count": 122,
   "metadata": {},
   "outputs": [
    {
     "data": {
      "text/html": [
       "7.16166666666667"
      ],
      "text/latex": [
       "7.16166666666667"
      ],
      "text/markdown": [
       "7.16166666666667"
      ],
      "text/plain": [
       "[1] 7.161667"
      ]
     },
     "metadata": {},
     "output_type": "display_data"
    },
    {
     "data": {
      "text/html": [
       "1.30560911130214"
      ],
      "text/latex": [
       "1.30560911130214"
      ],
      "text/markdown": [
       "1.30560911130214"
      ],
      "text/plain": [
       "[1] 1.305609"
      ]
     },
     "metadata": {},
     "output_type": "display_data"
    }
   ],
   "source": [
    "\n",
    "mean(x)\n",
    "\n",
    "sd(x)\n"
   ]
  },
  {
   "cell_type": "code",
   "execution_count": 123,
   "metadata": {},
   "outputs": [],
   "source": [
    "\n",
    "# install.packages(\"outliers\", dependencies = T)\n",
    "\n",
    "library(outliers)\n"
   ]
  },
  {
   "cell_type": "code",
   "execution_count": 127,
   "metadata": {},
   "outputs": [
    {
     "data": {
      "text/html": [
       "4.02"
      ],
      "text/latex": [
       "4.02"
      ],
      "text/markdown": [
       "4.02"
      ],
      "text/plain": [
       "[1] 4.02"
      ]
     },
     "metadata": {},
     "output_type": "display_data"
    }
   ],
   "source": [
    "\n",
    "outlier(x)\n",
    "\n",
    "# so what this is doing is calculating like a Grubbs like approach the \n",
    "# 'estimate of what the outlier is', based on math...\n",
    "\n",
    "# Finds value with largest difference between it and sample mean, \n",
    "# which can be an outlier.\n",
    "\n"
   ]
  },
  {
   "cell_type": "code",
   "execution_count": 42,
   "metadata": {},
   "outputs": [
    {
     "data": {
      "text/plain": [
       "\n",
       "\tGrubbs test for one outlier\n",
       "\n",
       "data:  x\n",
       "G = 2.40630, U = 0.42576, p-value = 0.05159\n",
       "alternative hypothesis: lowest value 4.02 is an outlier\n"
      ]
     },
     "metadata": {},
     "output_type": "display_data"
    }
   ],
   "source": [
    "\n",
    "# (a) null hpy = 'there are no outliers in the dataset'\n",
    "# this is inherently a two-tail test\n",
    "# based on hypothesis tests of course...\n",
    "\n",
    "grubbs.test(x,two.sided = T)\n"
   ]
  },
  {
   "cell_type": "code",
   "execution_count": 44,
   "metadata": {},
   "outputs": [
    {
     "data": {
      "text/plain": [
       "\n",
       "\tGrubbs test for one outlier\n",
       "\n",
       "data:  x\n",
       "G = 2.40630, U = 0.42576, p-value = 0.0258\n",
       "alternative hypothesis: lowest value 4.02 is an outlier\n"
      ]
     },
     "metadata": {},
     "output_type": "display_data"
    }
   ],
   "source": [
    "\n",
    "# (b) one tail test, null is 'lowest val is not an outlier'\n",
    "\n",
    "grubbs.test(x)\n"
   ]
  },
  {
   "cell_type": "code",
   "execution_count": 45,
   "metadata": {},
   "outputs": [
    {
     "data": {
      "text/plain": [
       "\n",
       "\tGrubbs test for one outlier\n",
       "\n",
       "data:  x\n",
       "G = 2.40630, U = 0.42576, p-value = 0.0258\n",
       "alternative hypothesis: lowest value 4.02 is an outlier\n"
      ]
     },
     "metadata": {},
     "output_type": "display_data"
    }
   ],
   "source": [
    "\n",
    "grubbs.test(x,type=10) # i.e. the default \n"
   ]
  },
  {
   "cell_type": "code",
   "execution_count": 46,
   "metadata": {},
   "outputs": [
    {
     "data": {
      "text/plain": [
       "\n",
       "\tGrubbs test for one outlier\n",
       "\n",
       "data:  x\n",
       "G = 1.25480, U = 0.84384, p-value = 1\n",
       "alternative hypothesis: highest value 8.8 is an outlier\n"
      ]
     },
     "metadata": {},
     "output_type": "display_data"
    }
   ],
   "source": [
    "\n",
    "# will check upper tail as well\n",
    "\n",
    "grubbs.test(x,type=10, opposite = T) \n"
   ]
  },
  {
   "cell_type": "code",
   "execution_count": 48,
   "metadata": {
    "scrolled": true
   },
   "outputs": [
    {
     "data": {
      "text/plain": [
       "\n",
       "\tGrubbs test for two opposite outliers\n",
       "\n",
       "data:  x\n",
       "G = 3.66110, U = 0.31842, p-value = 0.1806\n",
       "alternative hypothesis: 4.02 and 8.8 are outliers\n"
      ]
     },
     "metadata": {},
     "output_type": "display_data"
    }
   ],
   "source": [
    "\n",
    "# type 11:  test for two outliers on opp tails.\n",
    "\n",
    "# are the min and max outliers (joint test so to speak)\n",
    "\n",
    "grubbs.test(x, type=11) \n",
    "\n",
    "# we fail to reject the null hypothesis here, see the p ? \n"
   ]
  },
  {
   "cell_type": "code",
   "execution_count": 50,
   "metadata": {},
   "outputs": [
    {
     "data": {
      "text/plain": [
       "\n",
       "\tGrubbs test for two outliers\n",
       "\n",
       "data:  x\n",
       "U = 0.29249, p-value = 0.04528\n",
       "alternative hypothesis: lowest values 4.02 , 5.94 are outliers\n"
      ]
     },
     "metadata": {},
     "output_type": "display_data"
    }
   ],
   "source": [
    "\n",
    "# two outliers in one tail ? \n",
    "\n",
    "# thus 2 0 its not 20  :) \n",
    "\n",
    "grubbs.test(x,type=20) \n",
    "\n",
    "# reject the null hypothesis\n",
    "\n",
    "# imp:  one tail procedure, you compare to 0.05, NOT 0.05/2 ! \n"
   ]
  },
  {
   "cell_type": "code",
   "execution_count": 53,
   "metadata": {},
   "outputs": [
    {
     "data": {
      "text/plain": [
       "\n",
       "\tGrubbs test for two outliers\n",
       "\n",
       "data:  x\n",
       "U = 0.71581, p-value = 0.911\n",
       "alternative hypothesis: highest values 8.49 , 8.8 are outliers\n"
      ]
     },
     "metadata": {},
     "output_type": "display_data"
    }
   ],
   "source": [
    "\n",
    "grubbs.test(x,type=20, opposite = T) \n",
    "\n",
    "# fail to reject the null hyp, they are not outliers, see the p ? \n",
    "\n",
    "# or better:  not enough evidence to say they are outliers ...\n"
   ]
  },
  {
   "cell_type": "code",
   "execution_count": 30,
   "metadata": {
    "scrolled": false
   },
   "outputs": [
    {
     "data": {
      "text/plain": [
       "\n",
       "\tGrubbs test for two outliers\n",
       "\n",
       "data:  x\n",
       "U = 0.29249, p-value = 0.09056\n",
       "alternative hypothesis: lowest values 4.02 , 5.94 are outliers\n"
      ]
     },
     "metadata": {},
     "output_type": "display_data"
    }
   ],
   "source": [
    "\n",
    "# null:  there are no outliers (specifics here) \n",
    "\n",
    "grubbs.test(x,type=20, two.sided = TRUE)\n"
   ]
  },
  {
   "cell_type": "code",
   "execution_count": 67,
   "metadata": {},
   "outputs": [],
   "source": [
    "\n",
    "# READ:\n",
    "\n",
    "# it is very important that you understand when it says this:\n",
    "# 'alternative hypothesis: highest values 8.49 , 8.8 are outliers'\n",
    "#    it is really saying:  the alt hyp is equal to the words\n",
    "#    it is NOT saying as a final calc/output that they ARE outliers ! ! ! ! \n"
   ]
  },
  {
   "cell_type": "markdown",
   "metadata": {},
   "source": [
    "## Another Test "
   ]
  },
  {
   "cell_type": "code",
   "execution_count": 54,
   "metadata": {},
   "outputs": [
    {
     "data": {
      "text/plain": [
       "\n",
       "\tGrubbs test for one outlier\n",
       "\n",
       "data:  x\n",
       "G = 1.97080, U = 0.52047, p-value = 0.1323\n",
       "alternative hypothesis: lowest value -2.34569770262935 is an outlier\n"
      ]
     },
     "metadata": {},
     "output_type": "display_data"
    },
    {
     "data": {
      "text/plain": [
       "\n",
       "\tGrubbs test for two outliers\n",
       "\n",
       "data:  x\n",
       "U = 0.3836, p-value = 0.2459\n",
       "alternative hypothesis: lowest values -2.34569770262935 , -1.20706574938542 are outliers\n"
      ]
     },
     "metadata": {},
     "output_type": "display_data"
    },
    {
     "data": {
      "text/plain": [
       "\n",
       "\tGrubbs test for two opposite outliers\n",
       "\n",
       "data:  x\n",
       "G = 3.44460, U = 0.32364, p-value = 0.195\n",
       "alternative hypothesis: -2.34569770262935 and 1.08444117668306 are outliers\n"
      ]
     },
     "metadata": {},
     "output_type": "display_data"
    }
   ],
   "source": [
    "set.seed(1234)\n",
    "x = rnorm(10)\n",
    "grubbs.test(x)\n",
    "grubbs.test(x,type=20)\n",
    "grubbs.test(x,type=11)"
   ]
  },
  {
   "cell_type": "code",
   "execution_count": 55,
   "metadata": {},
   "outputs": [],
   "source": [
    "# should the outlier be rejected with 95% confidence ???"
   ]
  },
  {
   "cell_type": "code",
   "execution_count": 57,
   "metadata": {},
   "outputs": [],
   "source": [
    "# G_calc:  (X_under_consideration - Mean) / SD"
   ]
  },
  {
   "cell_type": "markdown",
   "metadata": {},
   "source": [
    "## Math"
   ]
  },
  {
   "cell_type": "code",
   "execution_count": 68,
   "metadata": {},
   "outputs": [
    {
     "name": "stdout",
     "output_type": "stream",
     "text": [
      " [1] 6.98 8.49 7.97 6.64 8.80 8.48 5.94 6.94 6.89 7.47 7.32 4.02\n"
     ]
    }
   ],
   "source": [
    "\n",
    "print(x)\n"
   ]
  },
  {
   "cell_type": "code",
   "execution_count": 69,
   "metadata": {},
   "outputs": [
    {
     "data": {
      "text/html": [
       "7.16166666666667"
      ],
      "text/latex": [
       "7.16166666666667"
      ],
      "text/markdown": [
       "7.16166666666667"
      ],
      "text/plain": [
       "[1] 7.161667"
      ]
     },
     "metadata": {},
     "output_type": "display_data"
    },
    {
     "data": {
      "text/html": [
       "1.30560911130214"
      ],
      "text/latex": [
       "1.30560911130214"
      ],
      "text/markdown": [
       "1.30560911130214"
      ],
      "text/plain": [
       "[1] 1.305609"
      ]
     },
     "metadata": {},
     "output_type": "display_data"
    }
   ],
   "source": [
    "\n",
    "mean(x)\n",
    "\n",
    "sd(x)\n"
   ]
  },
  {
   "cell_type": "code",
   "execution_count": 70,
   "metadata": {},
   "outputs": [
    {
     "data": {
      "text/plain": [
       "\n",
       "\tGrubbs test for one outlier\n",
       "\n",
       "data:  x\n",
       "G = 2.40630, U = 0.42576, p-value = 0.0258\n",
       "alternative hypothesis: lowest value 4.02 is an outlier\n"
      ]
     },
     "metadata": {},
     "output_type": "display_data"
    }
   ],
   "source": [
    "\n",
    "grubbs.test(x)\n"
   ]
  },
  {
   "cell_type": "code",
   "execution_count": null,
   "metadata": {},
   "outputs": [],
   "source": [
    "\n",
    "# The datapoint that was tested was 4.02 (the lowest value)\n",
    "\n",
    "# p-val = .0258, which is less than .05, so we reject the null\n",
    "\n",
    "# the point tested is either going to be the min or max value in the df, \n",
    "# WHICHEVER is furthest from the mean !!!!!!!!!!!!!!!!!!!!!!!!!!!!!!!!!!\n",
    "\n",
    "# p-val:\n",
    "# Really close to 0 means:  STRONG EVIDENCE of an outlier\n",
    "# Closer towards 1 means :  WEAK EVIDENCE of an outlier ! \n"
   ]
  },
  {
   "cell_type": "code",
   "execution_count": 76,
   "metadata": {
    "scrolled": true
   },
   "outputs": [
    {
     "data": {
      "text/html": [
       "<ol class=list-inline>\n",
       "\t<li>6.98</li>\n",
       "\t<li>8.49</li>\n",
       "\t<li>7.97</li>\n",
       "\t<li>6.64</li>\n",
       "\t<li>8.8</li>\n",
       "\t<li>8.48</li>\n",
       "\t<li>5.94</li>\n",
       "\t<li>6.94</li>\n",
       "\t<li>6.89</li>\n",
       "\t<li>7.47</li>\n",
       "\t<li>7.32</li>\n",
       "\t<li>4.02</li>\n",
       "</ol>\n"
      ],
      "text/latex": [
       "\\begin{enumerate*}\n",
       "\\item 6.98\n",
       "\\item 8.49\n",
       "\\item 7.97\n",
       "\\item 6.64\n",
       "\\item 8.8\n",
       "\\item 8.48\n",
       "\\item 5.94\n",
       "\\item 6.94\n",
       "\\item 6.89\n",
       "\\item 7.47\n",
       "\\item 7.32\n",
       "\\item 4.02\n",
       "\\end{enumerate*}\n"
      ],
      "text/markdown": [
       "1. 6.98\n",
       "2. 8.49\n",
       "3. 7.97\n",
       "4. 6.64\n",
       "5. 8.8\n",
       "6. 8.48\n",
       "7. 5.94\n",
       "8. 6.94\n",
       "9. 6.89\n",
       "10. 7.47\n",
       "11. 7.32\n",
       "12. 4.02\n",
       "\n",
       "\n"
      ],
      "text/plain": [
       " [1] 6.98 8.49 7.97 6.64 8.80 8.48 5.94 6.94 6.89 7.47 7.32 4.02"
      ]
     },
     "metadata": {},
     "output_type": "display_data"
    },
    {
     "data": {
      "text/html": [
       "5"
      ],
      "text/latex": [
       "5"
      ],
      "text/markdown": [
       "5"
      ],
      "text/plain": [
       "[1] 5"
      ]
     },
     "metadata": {},
     "output_type": "display_data"
    },
    {
     "data": {
      "text/html": [
       "12"
      ],
      "text/latex": [
       "12"
      ],
      "text/markdown": [
       "12"
      ],
      "text/plain": [
       "[1] 12"
      ]
     },
     "metadata": {},
     "output_type": "display_data"
    }
   ],
   "source": [
    "\n",
    "x\n",
    "\n",
    "which.max(x)  # where are you max ???\n",
    "\n",
    "which.min(x)  # where are you min ???\n",
    "\n",
    "# i.e. searching for locations or index ! \n",
    "\n",
    "# this is R, we start with index=1 :)\n"
   ]
  },
  {
   "cell_type": "code",
   "execution_count": 77,
   "metadata": {},
   "outputs": [
    {
     "data": {
      "image/png": "[encoded data removed]",
      "text/plain": [
       "Plot with title \"Histogram of x\""
      ]
     },
     "metadata": {},
     "output_type": "display_data"
    }
   ],
   "source": [
    "\n",
    "hist(x)"
   ]
  },
  {
   "cell_type": "code",
   "execution_count": 86,
   "metadata": {
    "scrolled": false
   },
   "outputs": [
    {
     "data": {
      "image/png": "[encoded data removed]",
      "text/plain": [
       "Plot with title \"Histogram of x\""
      ]
     },
     "metadata": {},
     "output_type": "display_data"
    }
   ],
   "source": [
    "hist(x,breaks=7) # see an approx L ? "
   ]
  },
  {
   "cell_type": "code",
   "execution_count": 130,
   "metadata": {},
   "outputs": [
    {
     "data": {
      "text/html": [
       "2.40628426951874"
      ],
      "text/latex": [
       "2.40628426951874"
      ],
      "text/markdown": [
       "2.40628426951874"
      ],
      "text/plain": [
       "[1] 2.406284"
      ]
     },
     "metadata": {},
     "output_type": "display_data"
    }
   ],
   "source": [
    "\n",
    "# Manually doing what the test did for me automatically:\n",
    "\n",
    "# Left-tailed test, mathematically: \n",
    "\n",
    "N <- 12      # i have 12 testpoints \n",
    "\n",
    "G_testpoint <- 4.02   #  value min i'm checking \n",
    "\n",
    "mean_data <- mean(x)\n",
    "\n",
    "sd_data <- sd(x)\n",
    "\n",
    "G_test <- (mean_data - G_testpoint)/sd_data\n",
    "# THIS WILL BE 'G' IN THE GRUBBS.TEST OUTPUT ! ! ! ! ! \n",
    "#  - technically i would consider this to be: G_test, and G_critical is what we compare it to\n",
    "\n",
    "G_test\n",
    "\n",
    "\n",
    "# Compare your G test statistic to the G critical value:\n",
    "# Gtest < Gcritical: keep the point in the data set; it is not an outlier.\n",
    "# Gtest > Gcritical: reject the point as an outlier."
   ]
  },
  {
   "cell_type": "code",
   "execution_count": 131,
   "metadata": {},
   "outputs": [
    {
     "data": {
      "text/plain": [
       "\n",
       "\tGrubbs test for one outlier\n",
       "\n",
       "data:  x\n",
       "G = 2.40630, U = 0.42576, p-value = 0.0258\n",
       "alternative hypothesis: lowest value 4.02 is an outlier\n"
      ]
     },
     "metadata": {},
     "output_type": "display_data"
    }
   ],
   "source": [
    "\n",
    "grubbs.test(x)\n"
   ]
  },
  {
   "cell_type": "code",
   "execution_count": 132,
   "metadata": {},
   "outputs": [],
   "source": [
    "\n",
    "#  See the G = 2.40630 ?  Same value i calculated, and is the G_test value !\n",
    "\n",
    "#  It does not show G_critical, it just shows you output p-value. \n"
   ]
  },
  {
   "cell_type": "code",
   "execution_count": 133,
   "metadata": {},
   "outputs": [
    {
     "data": {
      "text/html": [
       "1.37905431282137"
      ],
      "text/latex": [
       "1.37905431282137"
      ],
      "text/markdown": [
       "1.37905431282137"
      ],
      "text/plain": [
       "[1] 1.379054"
      ]
     },
     "metadata": {},
     "output_type": "display_data"
    }
   ],
   "source": [
    "\n",
    "# Manually calculate the p-score now ! \n",
    "\n",
    "qgrubbs(n = 12, p = 0.05)\n"
   ]
  },
  {
   "cell_type": "code",
   "execution_count": 101,
   "metadata": {},
   "outputs": [
    {
     "data": {
      "text/html": [
       "1.37905431282137"
      ],
      "text/latex": [
       "1.37905431282137"
      ],
      "text/markdown": [
       "1.37905431282137"
      ],
      "text/plain": [
       "[1] 1.379054"
      ]
     },
     "metadata": {},
     "output_type": "display_data"
    }
   ],
   "source": [
    "\n",
    "qgrubbs(p=0.05, n=12, type=10, rev = FALSE)\n"
   ]
  },
  {
   "cell_type": "code",
   "execution_count": 102,
   "metadata": {},
   "outputs": [],
   "source": [
    "\n",
    "# help(grubbs.test)\n",
    "\n",
    "# help(qgrubbs())\n"
   ]
  },
  {
   "cell_type": "code",
   "execution_count": 94,
   "metadata": {
    "scrolled": true
   },
   "outputs": [
    {
     "data": {
      "text/plain": [
       "\n",
       "\tGrubbs test for one outlier\n",
       "\n",
       "data:  x\n",
       "G = 2.40630, U = 0.42576, p-value = 0.0258\n",
       "alternative hypothesis: lowest value 4.02 is an outlier\n"
      ]
     },
     "metadata": {},
     "output_type": "display_data"
    }
   ],
   "source": [
    "\n",
    "grubbs.test(x)\n"
   ]
  },
  {
   "cell_type": "code",
   "execution_count": 113,
   "metadata": {},
   "outputs": [],
   "source": [
    "\n",
    "# critical_G is for N=12, etc of:  2.29.  \n",
    "\n",
    "# Our G is > than critical_G\n"
   ]
  },
  {
   "cell_type": "code",
   "execution_count": 103,
   "metadata": {},
   "outputs": [
    {
     "data": {
      "text/html": [
       "<strong>$statistic</strong> = <dl class=dl-horizontal>\n",
       "\t<dt>G</dt>\n",
       "\t\t<dd>2.40628426951874</dd>\n",
       "\t<dt>U</dt>\n",
       "\t\t<dd>0.42576489397686</dd>\n",
       "</dl>\n"
      ],
      "text/latex": [
       "\\textbf{\\$statistic} = \\begin{description*}\n",
       "\\item[G] 2.40628426951874\n",
       "\\item[U] 0.42576489397686\n",
       "\\end{description*}\n"
      ],
      "text/markdown": [
       "**$statistic** = G\n",
       ":   2.40628426951874U\n",
       ":   0.42576489397686\n",
       "\n"
      ],
      "text/plain": [
       "$statistic\n",
       "        G         U \n",
       "2.4062843 0.4257649 \n"
      ]
     },
     "metadata": {},
     "output_type": "display_data"
    }
   ],
   "source": [
    "\n",
    "grubbs.test(x)[1]\n"
   ]
  },
  {
   "cell_type": "code",
   "execution_count": 104,
   "metadata": {},
   "outputs": [
    {
     "data": {
      "text/html": [
       "<strong>$alternative</strong> = 'lowest value 4.02 is an outlier'"
      ],
      "text/latex": [
       "\\textbf{\\$alternative} = 'lowest value 4.02 is an outlier'"
      ],
      "text/markdown": [
       "**$alternative** = 'lowest value 4.02 is an outlier'"
      ],
      "text/plain": [
       "$alternative\n",
       "[1] \"lowest value 4.02 is an outlier\"\n"
      ]
     },
     "metadata": {},
     "output_type": "display_data"
    }
   ],
   "source": [
    "\n",
    "grubbs.test(x)[2]\n"
   ]
  },
  {
   "cell_type": "code",
   "execution_count": 105,
   "metadata": {},
   "outputs": [
    {
     "data": {
      "text/html": [
       "<strong>$p.value</strong> = 0.0257965847574018"
      ],
      "text/latex": [
       "\\textbf{\\$p.value} = 0.0257965847574018"
      ],
      "text/markdown": [
       "**$p.value** = 0.0257965847574018"
      ],
      "text/plain": [
       "$p.value\n",
       "[1] 0.02579658\n"
      ]
     },
     "metadata": {},
     "output_type": "display_data"
    }
   ],
   "source": [
    "\n",
    "grubbs.test(x)[3]\n"
   ]
  },
  {
   "cell_type": "code",
   "execution_count": 106,
   "metadata": {},
   "outputs": [
    {
     "data": {
      "text/html": [
       "<strong>$method</strong> = 'Grubbs test for one outlier'"
      ],
      "text/latex": [
       "\\textbf{\\$method} = 'Grubbs test for one outlier'"
      ],
      "text/markdown": [
       "**$method** = 'Grubbs test for one outlier'"
      ],
      "text/plain": [
       "$method\n",
       "[1] \"Grubbs test for one outlier\"\n"
      ]
     },
     "metadata": {},
     "output_type": "display_data"
    }
   ],
   "source": [
    "\n",
    "grubbs.test(x)[4]\n"
   ]
  },
  {
   "cell_type": "code",
   "execution_count": 110,
   "metadata": {},
   "outputs": [
    {
     "data": {
      "text/html": [
       "<strong>$data.name</strong> = 'x'"
      ],
      "text/latex": [
       "\\textbf{\\$data.name} = 'x'"
      ],
      "text/markdown": [
       "**$data.name** = 'x'"
      ],
      "text/plain": [
       "$data.name\n",
       "[1] \"x\"\n"
      ]
     },
     "metadata": {},
     "output_type": "display_data"
    }
   ],
   "source": [
    "\n",
    "grubbs.test(x)[5]\n"
   ]
  }
 ],
 "metadata": {
  "kernelspec": {
   "display_name": "R",
   "language": "R",
   "name": "ir"
  },
  "language_info": {
   "codemirror_mode": "r",
   "file_extension": ".r",
   "mimetype": "text/x-r-source",
   "name": "R",
   "pygments_lexer": "r",
   "version": "3.5.1"
  }
 },
 "nbformat": 4,
 "nbformat_minor": 2
}
